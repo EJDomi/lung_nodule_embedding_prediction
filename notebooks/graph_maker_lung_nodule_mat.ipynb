{
 "cells": [
  {
   "cell_type": "code",
   "execution_count": null,
   "id": "530d5a20-757a-401b-b283-fa188c42be61",
   "metadata": {},
   "outputs": [],
   "source": [
    "%load_ext autoreload\n",
    "%autoreload 2\n",
    "#%matplotlib widget\n",
    "#%matplotlib ipympl\n",
    "\n",
    "#%reload_ext tensorboard\n",
    "#%matplotlib qt"
   ]
  },
  {
   "cell_type": "code",
   "execution_count": null,
   "id": "fcd98c0b-5e5c-4549-98e8-d604b8b111ba",
   "metadata": {},
   "outputs": [],
   "source": [
    "import os\n",
    "from pathlib import Path\n",
    "from datetime import datetime\n",
    "import pandas as pd\n",
    "import numpy as np\n",
    "import scipy.io\n",
    "\n",
    "import networkx as nx\n",
    "from torch_geometric.utils import from_networkx\n",
    "\n",
    "import matplotlib.pyplot as plt\n",
    "import SimpleITK as sitk\n",
    "from tqdm.auto import tqdm\n",
    "import pickle, subprocess\n",
    "import torch\n",
    "import sklearn\n",
    "import csv\n",
    "import gc\n",
    "import pydicom\n",
    "\n",
    "import glob\n",
    "from platipy.imaging import ImageVisualiser\n",
    "\n",
    "from lung_nodule_embedding_prediction.pytorch.dataset_class import DatasetGeneratorImage\n",
    "from lung_nodule_embedding_prediction.pytorch.run_model_torch import RunMalignancyModel\n",
    "#from hnc_project import data_prep as dp\n",
    "#from hnc_project import myshow\n",
    "#from hnc_project import graph_making as gm\n",
    "#from hnc_project.pytorch import dataset_class as dc\n",
    "#from hnc_project.pytorch.run_model_torch import RunModel\n",
    "#%matplotlib notebook\n",
    "%matplotlib widget\n",
    "plt.ion()\n",
    "#import initial_ml as iml"
   ]
  },
  {
   "cell_type": "code",
   "execution_count": null,
   "id": "0a8e2fc6-966e-4a72-b809-349a7405e16a",
   "metadata": {},
   "outputs": [],
   "source": [
    "data_dir = '../../data/LIDC-IDRI/'\n",
    "nii_dir = '../../data/LIDC-IDRI/Nii'\n",
    "resample_dir = '../../data/LIDC-IDRI/Nii_resample_111'\n",
    "patch_dir = '../../data/LIDC-IDRI/Nii_111_50'\n",
    "graph_dir = '../../data/LIDC-IDRI/graph_staging'\n",
    "edge_dir = '../../data/LIDC-IDRI/edge_staging'\n",
    "#patch_dir = '../../data/LIDC-IDRI/shulong_files/tensor_32'\n",
    "\n",
    "id_file = f'{data_dir}/shulong_files/nodules_ids_rates_centers_voxelSizes.mat'\n",
    "\n",
    "data_path = Path(data_dir)\n",
    "resample_path = Path(data_dir)\n",
    "patch_path = Path(patch_dir)\n",
    "graph_path = Path(graph_dir)\n",
    "edge_path = Path(edge_dir)\n",
    "\n",
    "graph_path.mkdir(exist_ok=True, parents=True)\n",
    "edge_path.mkdir(exist_ok=True, parents=True)\n"
   ]
  },
  {
   "cell_type": "code",
   "execution_count": null,
   "id": "3fce086f-4e79-4b6e-b5fa-063e63e0acf0",
   "metadata": {},
   "outputs": [],
   "source": [
    "patients = scipy.io.loadmat(id_file)['rate_ids']"
   ]
  },
  {
   "cell_type": "markdown",
   "id": "c60cb62c-94f5-42b3-8d7f-31a1bd1287b0",
   "metadata": {},
   "source": [
    "## Graph Making"
   ]
  },
  {
   "cell_type": "code",
   "execution_count": null,
   "id": "c60a27dd-cc23-4a77-aea9-91fabc40d521",
   "metadata": {},
   "outputs": [],
   "source": [
    "center_pos = np.array(patient_df['position'].tolist())"
   ]
  },
  {
   "cell_type": "code",
   "execution_count": null,
   "id": "65d31ce6-e49c-43eb-bcd1-57378014777a",
   "metadata": {},
   "outputs": [],
   "source": [
    "fig = plt.figure()\n",
    "ax = fig.add_subplot(projection='3d')\n",
    "ax.scatter(center_pos[:,0], center_pos[:,1], center_pos[:,2])"
   ]
  },
  {
   "cell_type": "code",
   "execution_count": null,
   "id": "24ff4922-ea7c-4692-bced-1249238807dc",
   "metadata": {},
   "outputs": [],
   "source": [
    "patient_df = pd.DataFrame(patients, columns=['subject_id', 'label', 'position', 'spacing'])\n",
    "for idx in patient_df.index:\n",
    "    patient_df.loc[idx, 'subject_id'] = str(np.squeeze(patient_df.loc[idx, 'subject_id']))\n",
    "    patient_df.loc[idx, 'label'] = int(np.squeeze(patient_df.loc[idx, 'label']))\n",
    "    patient_df.loc[idx, 'position'] = np.squeeze(patient_df.loc[idx, 'position'])\n",
    "    patient_df.loc[idx, 'spacing'] = np.squeeze(patient_df.loc[idx, 'spacing'])\n",
    "    \n",
    "patient_df['node'] = patient_df.subject_id.str.split('-', expand=True).iloc[:, 3]\n",
    "patient_df['subject_id'] = patient_df.subject_id.str.split('-', expand=True)[[0, 1, 2]].agg('-'.join, axis=1)\n",
    "patient_df.set_index(['subject_id', 'node'], inplace=True)\n",
    "label_mapping = {1: 0, 2: 0, 3: -1, 4: 1, 5: 1}\n",
    "patient_df['y'] = patient_df['label'].map(label_mapping)\n",
    "## L - 0, R - 1\n",
    "patient_df['laterality'] = np.array(patient_df['position'].tolist())[:,1] >= 256\n",
    "patient_df['laterality'] = patient_df['laterality'].astype(int)\n",
    "patient_df[['pos_x', 'pos_y', 'pos_z']] = patient_df['position'].tolist()\n",
    "patient_df[['spa_x', 'spa_y', 'spa_z']] = patient_df['spacing'].tolist()"
   ]
  },
  {
   "cell_type": "code",
   "execution_count": null,
   "id": "b9a935d9-b31d-4d77-b668-cb0a174b8918",
   "metadata": {},
   "outputs": [],
   "source": [
    "patient_df.drop(index=('LIDC-IDRI-0484', '02'), inplace=True)"
   ]
  },
  {
   "cell_type": "code",
   "execution_count": null,
   "id": "df4709b9-f1a2-4215-bc5a-d2edb1011d6b",
   "metadata": {},
   "outputs": [],
   "source": [
    "patient_df.to_pickle(edge_path.joinpath('features_and_labels_032525.pkl'))"
   ]
  },
  {
   "cell_type": "code",
   "execution_count": null,
   "id": "30de8040-42e2-4252-9c76-a1d59fb829b2",
   "metadata": {},
   "outputs": [],
   "source": [
    "patient_graph = {}\n",
    "edge_dict = {}\n",
    "for pat in patient_df.index.get_level_values('subject_id').unique():\n",
    "    patient_graph[pat] = nx.Graph()\n",
    "    pat_df = patient_df.loc[pat]\n",
    "    patient_graph[pat].add_nodes_from(patient_df.loc[pat].index)\n",
    "    edge_dict[pat] = []\n",
    "    for _, group_df in pat_df.groupby(['laterality']):\n",
    "        if len(group_df.index) < 2:\n",
    "            edge_dict[pat].extend([(node, node) for node in group_df.index])\n",
    "            continue\n",
    "        for node in group_df.index:\n",
    "            edge_dict[pat].extend([(node, jnode) for jnode in group_df.index \n",
    "                                           if (int(node) != int(jnode))])\n",
    "    patient_graph[pat].add_edges_from(edge_dict[pat])\n",
    "    #patient_graph[pat] = patient_graph[pat].to_undirected()\n",
    "#graph_df = pd.DataFrame(data=patient_graph.values(), index=patient_graph.keys(), columns=[\"graph\"])\n",
    "#graph_df = pd.DataFrame(data=patient_graph.values(), index=patient_graph.keys())\n",
    "#patient_df['graph'] = patient_df['graph'].map(patient_graph)\n",
    "#for idx_node in range(patient_dict['70248556']['nodes']):\n",
    "#    tpgraph.add_node(idx_node"
   ]
  },
  {
   "cell_type": "code",
   "execution_count": null,
   "id": "76e672ca-5752-4639-ac32-58cf62535960",
   "metadata": {},
   "outputs": [],
   "source": [
    "with open(edge_path.joinpath('proto_graphs_undirected_032525.pkl'), 'wb') as f:\n",
    "    pickle.dump(patient_graph, f)\n",
    "    f.close()"
   ]
  }
 ],
 "metadata": {
  "kernelspec": {
   "display_name": "pytorch_gpu_v2",
   "language": "python",
   "name": "pytorch_gpu_v2"
  },
  "language_info": {
   "codemirror_mode": {
    "name": "ipython",
    "version": 3
   },
   "file_extension": ".py",
   "mimetype": "text/x-python",
   "name": "python",
   "nbconvert_exporter": "python",
   "pygments_lexer": "ipython3",
   "version": "3.9.19"
  }
 },
 "nbformat": 4,
 "nbformat_minor": 5
}
