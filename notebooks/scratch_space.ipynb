{
 "cells": [
  {
   "cell_type": "code",
   "execution_count": null,
   "id": "d9de7e84-a82d-4d47-aea8-44319961e255",
   "metadata": {},
   "outputs": [],
   "source": [
    "%load_ext autoreload\n",
    "%autoreload 2\n",
    "#%matplotlib widget\n",
    "#%matplotlib ipympl\n",
    "\n",
    "#%reload_ext tensorboard\n",
    "#%matplotlib qt"
   ]
  },
  {
   "cell_type": "code",
   "execution_count": null,
   "id": "9c69976f-3eb6-4ffb-ac79-9bda6fb48b10",
   "metadata": {},
   "outputs": [],
   "source": [
    "import pandas as pd\n",
    "import os, pickle\n",
    "import numpy as np\n",
    "from pathlib import Path\n",
    "import SimpleITK as sitk\n",
    "import pydicom\n",
    "from LN_malignancy_GNN.pytorch.run_model_torch import RunModel"
   ]
  },
  {
   "cell_type": "code",
   "execution_count": null,
   "id": "579e9fa1-1ccd-4a79-b2e2-c6bc48a03389",
   "metadata": {},
   "outputs": [],
   "source": [
    "data_path = Path('../../data/ln_malignancy')\n",
    "fold_dir = data_path.joinpath('liyuan_folds')\n",
    "dicom_dir = data_path.joinpath('All_Pt_Data')"
   ]
  },
  {
   "cell_type": "code",
   "execution_count": null,
   "id": "00ebd4ea-0124-48bc-aa19-025774befa0b",
   "metadata": {},
   "outputs": [],
   "source": [
    "fold_dict = {}\n",
    "patient_list = []"
   ]
  },
  {
   "cell_type": "code",
   "execution_count": null,
   "id": "b28a89b9-8bb0-45aa-826c-c5ac69990f5a",
   "metadata": {},
   "outputs": [],
   "source": [
    "for idx in range(5):\n",
    "    fold_dict[f\"fold_{idx}\"] = np.unique([f.name.split('_')[0] for f in fold_dir.glob(f\"F{idx+1}/label/*\")])\n",
    "    patient_list.extend(np.unique([f.name.split('_')[0] for f in fold_dir.glob(f\"F{idx+1}/label/*\")]))"
   ]
  },
  {
   "cell_type": "code",
   "execution_count": null,
   "id": "bcc9a9a3-4bba-460b-a5a6-1f49a5af171c",
   "metadata": {},
   "outputs": [],
   "source": [
    "preset_fold_list = []\n",
    "for fold in fold_dict:\n",
    "    preset_fold_list.append([patient_list.index(pat) for pat in fold_dict[fold]])"
   ]
  },
  {
   "cell_type": "code",
   "execution_count": null,
   "id": "a4e25950-d787-4699-b82c-2d786d694e28",
   "metadata": {},
   "outputs": [],
   "source": [
    "with open(data_path.joinpath('preset_folds_malignancy_liyuan_091024.pkl'), 'wb') as f:\n",
    "    pickle.dump(preset_fold_list, f)\n",
    "    f.close()"
   ]
  },
  {
   "cell_type": "code",
   "execution_count": null,
   "id": "3afa05aa-ec87-4f3d-a18d-46317ba3881e",
   "metadata": {},
   "outputs": [],
   "source": [
    "fold_file_ex = pd.read_pickle(data_path.joinpath('preset_folds_malignancy_081324.pkl'))"
   ]
  },
  {
   "cell_type": "code",
   "execution_count": null,
   "id": "c0d410ea-e8c6-4056-8f85-3ccf0edce604",
   "metadata": {},
   "outputs": [],
   "source": [
    "patients = pd.read_pickle(data_path.joinpath('features_and_labels_070924.pkl'))"
   ]
  },
  {
   "cell_type": "code",
   "execution_count": null,
   "id": "1f4ee1c6-fcfc-4b8b-97ae-ed10daecd850",
   "metadata": {},
   "outputs": [],
   "source": [
    "list(patients.index.get_level_values(0).unique()) == patient_list"
   ]
  },
  {
   "cell_type": "code",
   "execution_count": null,
   "id": "6a2eaa34-0b57-439c-9ab8-242992ca8640",
   "metadata": {},
   "outputs": [],
   "source": [
    "from LN_malignancy_GNN.pytorch.gen_params_torch_cfg import *\n",
    "model_config['data_version'] = 'initial_rot5_30_balance_v1'\n",
    "model_config['balance_classes'] = True"
   ]
  },
  {
   "cell_type": "code",
   "execution_count": null,
   "id": "8d21603c-55c6-4b68-abd0-9f313027ec1f",
   "metadata": {},
   "outputs": [],
   "source": [
    "test_model = RunModel(model_config)"
   ]
  },
  {
   "cell_type": "code",
   "execution_count": null,
   "id": "d8e6d821-f9aa-411f-b123-b548b3afa08b",
   "metadata": {},
   "outputs": [],
   "source": [
    "test_model.set_data()"
   ]
  },
  {
   "cell_type": "code",
   "execution_count": null,
   "id": "3bd5acea-82a5-410a-954b-4dee0744d629",
   "metadata": {},
   "outputs": [],
   "source": [
    "test_model.set_train_test_split()"
   ]
  },
  {
   "cell_type": "code",
   "execution_count": null,
   "id": "37a80b3f-effa-4f82-b4ff-cc6b45223ef6",
   "metadata": {},
   "outputs": [],
   "source": [
    "test_model.data.processed_file_names"
   ]
  },
  {
   "cell_type": "code",
   "execution_count": null,
   "id": "ece43c55-9856-4ce9-a7ae-4590d6b5211b",
   "metadata": {},
   "outputs": [],
   "source": [
    "n_pats = len(test_model.data.patients.index.get_level_values(0).unique())\n",
    "\n",
    "test_idx = [ patients.index.get_level_values(0).unique().get_loc(pat.split('_')[0])+ n_pats *int(pat.split('_')[-1]) for pat in aug_fold_pats]"
   ]
  },
  {
   "cell_type": "code",
   "execution_count": null,
   "id": "fe6d2cf4-1fcb-46ce-8aa5-0b2cc077a567",
   "metadata": {},
   "outputs": [],
   "source": [
    "for pat, idx in zip(aug_fold_pats, test_idx):\n",
    "    print(pat, idx)"
   ]
  },
  {
   "cell_type": "code",
   "execution_count": null,
   "id": "979fea7d-fa40-4194-b5ed-5a8ab8e81407",
   "metadata": {},
   "outputs": [],
   "source": [
    "len(test_model.data.patients.iloc[test_model.train_splits[0]].index.get_level_values(0).unique())"
   ]
  },
  {
   "cell_type": "code",
   "execution_count": null,
   "id": "aa68ecf6-96bc-47b5-b87e-8e8bbaa8e9a4",
   "metadata": {},
   "outputs": [],
   "source": [
    "train_fold_pats = test_model.data.patients.iloc[test_model.train_splits[0]]"
   ]
  },
  {
   "cell_type": "code",
   "execution_count": null,
   "id": "23bbf079-ffe9-4ac4-b78b-cebcaf928365",
   "metadata": {},
   "outputs": [],
   "source": [
    "fold_pats = train_fold_pats.index.get_level_values(0).unique()"
   ]
  },
  {
   "cell_type": "code",
   "execution_count": null,
   "id": "9039e56e-8b3a-4573-b68c-0d097a2ddcdd",
   "metadata": {},
   "outputs": [],
   "source": [
    "aug_idx = [file_name.split('_')[1] for file_name in test_model.data.processed_file_names if file_name.split('_')[2] in fold_pats and 'rotation' in file_name]"
   ]
  },
  {
   "cell_type": "code",
   "execution_count": null,
   "id": "54556d11-e5ab-449f-b44e-89560fd2c378",
   "metadata": {},
   "outputs": [],
   "source": [
    "all_patients = list(test_model.data.patients.index.get_level_values(0).unique()) + list(test_model.data.aug_patients.index.get_level_values(0).unique()) + list(test_model.data.aug_pos_patients.index.get_level_values(0).unique())"
   ]
  },
  {
   "cell_type": "code",
   "execution_count": null,
   "id": "d2dd61dc-46c5-4311-b1e7-50e520d4f157",
   "metadata": {},
   "outputs": [],
   "source": [
    "test_str = 'graph_1429_92493024_pos_rotation_2.pt'"
   ]
  },
  {
   "cell_type": "code",
   "execution_count": null,
   "id": "30a0388e-6151-4e6c-ac7a-2649d7018393",
   "metadata": {},
   "outputs": [],
   "source": [
    "'_'.join(test_str.split('.')[0].split('_')[2:])"
   ]
  },
  {
   "cell_type": "code",
   "execution_count": null,
   "id": "9f9eb125-6b3d-4bf0-b8ac-198015ac19ff",
   "metadata": {},
   "outputs": [],
   "source": [
    "fold_pats = test_model.data.patients.index.get_level_values(0).unique()[test_model.train_splits[0]]\n",
    "print(fold_pats)"
   ]
  },
  {
   "cell_type": "code",
   "execution_count": null,
   "id": "effbfb24-b3ef-4391-8bd3-61702ff18df5",
   "metadata": {},
   "outputs": [],
   "source": [
    "for idx in test_model.train_splits[0]:\n",
    "    print(idx, all_patients[idx])"
   ]
  },
  {
   "cell_type": "code",
   "execution_count": null,
   "id": "0eaaac51-a320-4d18-aac2-d6839686d8f0",
   "metadata": {},
   "outputs": [],
   "source": [
    "for idx in:\n",
    "    L.seed_everything(42)\n",
    "    model.set_model()\n",
    "    model.set_callbacks(idx)\n",
    "    \n",
    "    model.trainers[idx] = L.Trainer(\n",
    "                    max_epochs=model.config['n_epochs'],\n",
    "                    accelerator=\"auto\",\n",
    "                    devices=model.config['gpu_device'] if torch.cuda.is_available() else None,\n",
    "                    logger=[L.loggers.CSVLogger(save_dir=os.path.join(model.log_dir, f\"csvlog_fold_{idx}\")), L.loggers.TensorBoardLogger(save_dir=os.path.join(model.log_dir, f\"tb_fold_{idx}\"))],\n",
    "                    callbacks=model.callbacks,\n",
    "                    #check_val_every_n_epoch = 1,\n",
    "                    #auto_lr_find=True\n",
    "    )\n",
    "    model.trainers[idx].fit(model.model, datamodule=model.data_module_cross_val[idx])"
   ]
  },
  {
   "cell_type": "code",
   "execution_count": null,
   "id": "24811357-ded8-4153-9884-f8b0eadbfebd",
   "metadata": {},
   "outputs": [],
   "source": [
    "idx = 3\n",
    "model.best_checkpoints[f\"fold_{idx}\"] = {callback.monitor: callback.best_model_path for callback in model.trainers[idx].callbacks if 'ModelCheckpoint' in callback.__class__.__name__}\n",
    "for monitor, best_model in model.best_checkpoints[f\"fold_{idx}\"].items():\n",
    "                model.val_metrics[monitor][idx] = model.trainers[idx].validate(model.trainers[idx].model, datamodule=model.data_module_cross_val[idx], ckpt_path=best_model)[0]\n",
    "                model.test_metrics[monitor][idx] = model.trainers[idx].test(model.trainers[idx].model, datamodule=model.data_module_cross_val[idx], ckpt_path=best_model)[0]"
   ]
  },
  {
   "cell_type": "code",
   "execution_count": null,
   "id": "56fa5d0e-27eb-4b4a-bc65-77567676fbfc",
   "metadata": {},
   "outputs": [],
   "source": []
  },
  {
   "cell_type": "code",
   "execution_count": null,
   "id": "7932da1c-9709-4ac2-bc7c-d40d4e358e5f",
   "metadata": {},
   "outputs": [],
   "source": [
    "test_arr = []\n",
    "for idx in range(5):\n",
    "    test_file = scipy.io.loadmat(model.data.data_path.joinpath(f'Radiomics_features/Radio F{idx+1}_ct_fea.mat').as_posix())\n",
    "    tmp_arr = test_file['fin_fea_all']\n",
    "    print(tmp_arr.shape)\n",
    "    test_arr.append(tmp_arr)"
   ]
  },
  {
   "cell_type": "code",
   "execution_count": null,
   "id": "4e5b99d4-e6e9-4aa6-ab10-4e28b8f6f1a3",
   "metadata": {},
   "outputs": [],
   "source": [
    "np.shape(test_arr)"
   ]
  },
  {
   "cell_type": "code",
   "execution_count": null,
   "id": "eef0f5da-0e4c-4b7a-8678-ded850400eda",
   "metadata": {},
   "outputs": [],
   "source": [
    "for fold in model.folds:\n",
    "    print(len(fold))"
   ]
  },
  {
   "cell_type": "code",
   "execution_count": null,
   "id": "f0b5cab0-a0aa-4d67-8ec1-3ab474044515",
   "metadata": {},
   "outputs": [],
   "source": [
    "fold_1 = model.data.patients.loc[model.data.patients.index.get_level_values(0).unique()[model.folds[0]]]\n",
    "print(fold_1)\n",
    "print(test_arr[0][:, -6:])\n"
   ]
  },
  {
   "cell_type": "code",
   "execution_count": null,
   "id": "13202237-4b0a-4b8b-8bab-5020d177558a",
   "metadata": {},
   "outputs": [],
   "source": [
    "np.array([1,1]) + [3,1]"
   ]
  },
  {
   "cell_type": "code",
   "execution_count": null,
   "id": "92802f67-ea81-45ea-8cef-37b05d846268",
   "metadata": {},
   "outputs": [],
   "source": [
    "pat_arr = model.data.patients['labels'].values\n",
    "sum_arr = np.array([0,0])\n",
    "for pat in pat_arr:\n",
    "    sum_arr += pat\n",
    "\n",
    "sum_arr"
   ]
  },
  {
   "cell_type": "code",
   "execution_count": null,
   "id": "e7f523e3-2f87-4da6-9bb5-a326383f3046",
   "metadata": {},
   "outputs": [],
   "source": [
    "order_dict = {value: key for key, value in enumerate(fold_1['dist_to_pri'])}"
   ]
  },
  {
   "cell_type": "code",
   "execution_count": null,
   "id": "e26ff883-6f9b-42f6-8810-bc682ed4e1a0",
   "metadata": {},
   "outputs": [],
   "source": [
    "ordered_test_arr = np.array(sorted(test_arr[0], key=lambda x: order_dict[x[-3]]))"
   ]
  },
  {
   "cell_type": "code",
   "execution_count": null,
   "id": "0838b701-e701-41cf-a42f-5fe490b178d4",
   "metadata": {},
   "outputs": [],
   "source": [
    "test_arr[1]"
   ]
  },
  {
   "cell_type": "code",
   "execution_count": null,
   "id": "6fa3f747-f6cf-4176-8335-fe9d6d581a99",
   "metadata": {},
   "outputs": [],
   "source": [
    "len(np.unique(test_arr[1][:,-3]))"
   ]
  },
  {
   "cell_type": "code",
   "execution_count": null,
   "id": "77b0db71-374f-4ac8-839e-fd14cf437909",
   "metadata": {},
   "outputs": [],
   "source": [
    "len(np.rec.find_duplicate(test_arr[1][:, -2]))"
   ]
  },
  {
   "cell_type": "code",
   "execution_count": null,
   "id": "15940be0-f6ad-402d-8415-eeccec58f102",
   "metadata": {},
   "outputs": [],
   "source": [
    "for idx, idx_str in enumerate(fold_1.index):\n",
    "    try:\n",
    "        print(fold_1.loc[idx_str, 'dist_to_pri'], ordered_test_arr[idx-1, -3])\n",
    "    except:\n",
    "        print('ran out of spaces')"
   ]
  },
  {
   "cell_type": "code",
   "execution_count": null,
   "id": "c5a9b611-34a9-4de3-8ea2-12980a0030b1",
   "metadata": {},
   "outputs": [],
   "source": []
  },
  {
   "cell_type": "code",
   "execution_count": null,
   "id": "1b5aae69-daa6-47a6-b89a-44ee76b8b591",
   "metadata": {},
   "outputs": [],
   "source": [
    "model.fold_dict = {}\n",
    "for idx in range(5):\n",
    "    model.fold_dict[f\"fold_{idx}\"] = [f.name.split('.')[0] for f in sorted(model.data.data_path.joinpath(model.config['fold_dir']).glob(f\"F{idx+1}/label/*\"))]"
   ]
  },
  {
   "cell_type": "code",
   "execution_count": null,
   "id": "313cdb82-4065-49a9-9984-443225360cde",
   "metadata": {},
   "outputs": [],
   "source": [
    "model.fold_dict"
   ]
  },
  {
   "cell_type": "code",
   "execution_count": null,
   "id": "b046059b-c4bd-4326-833d-298d97b4fe25",
   "metadata": {},
   "outputs": [],
   "source": [
    "node_idx = {}\n",
    "for idx in range(5):\n",
    "    node_idx[f\"fold_{idx}\"] = [model.data.patients.index.get_loc((pat.split('_')[0], int(pat.split('_')[1]))) for pat in model.fold_dict[f\"fold_{idx}\"]]"
   ]
  },
  {
   "cell_type": "code",
   "execution_count": null,
   "id": "6b0456b0-7284-493e-bf3a-5ba6632c01ed",
   "metadata": {},
   "outputs": [],
   "source": [
    "len(node_idx['fold_0'])"
   ]
  },
  {
   "cell_type": "code",
   "execution_count": null,
   "id": "465f55ab-0d62-419a-9d80-80dfc08624ad",
   "metadata": {},
   "outputs": [],
   "source": [
    "import pickle\n",
    "fold_dict = model.fold_dict\n",
    "patients = model.data.patients\n",
    "with open(model.data.data_path.joinpath('node_index_no_large.pkl'), 'wb') as f:\n",
    "    pickle.dump(node_idx, f)\n",
    "    pickle.dump(fold_dict, f)\n",
    "    pickle.dump(patients, f)\n",
    "    f.close()\n",
    "    "
   ]
  }
 ],
 "metadata": {
  "kernelspec": {
   "display_name": "pytorch_gpu_v2",
   "language": "python",
   "name": "pytorch_gpu_v2"
  },
  "language_info": {
   "codemirror_mode": {
    "name": "ipython",
    "version": 3
   },
   "file_extension": ".py",
   "mimetype": "text/x-python",
   "name": "python",
   "nbconvert_exporter": "python",
   "pygments_lexer": "ipython3",
   "version": "3.9.19"
  }
 },
 "nbformat": 4,
 "nbformat_minor": 5
}
