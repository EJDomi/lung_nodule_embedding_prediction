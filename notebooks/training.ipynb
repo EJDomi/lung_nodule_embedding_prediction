{
 "cells": [
  {
   "cell_type": "markdown",
   "id": "94f9c183-b007-4cfa-bb7c-b88a1dc1d6d8",
   "metadata": {},
   "source": [
    "### Training"
   ]
  },
  {
   "cell_type": "code",
   "execution_count": null,
   "id": "d9de7e84-a82d-4d47-aea8-44319961e255",
   "metadata": {},
   "outputs": [],
   "source": [
    "%load_ext autoreload\n",
    "%autoreload 2\n",
    "#%matplotlib widget\n",
    "#%matplotlib ipympl\n",
    "\n",
    "#%reload_ext tensorboard\n",
    "#%matplotlib qt"
   ]
  },
  {
   "cell_type": "code",
   "execution_count": null,
   "id": "5236053e-dda7-4530-9cad-2f710a1b3968",
   "metadata": {},
   "outputs": [],
   "source": [
    "import numpy as np\n",
    "import pandas as pd\n",
    "import os\n",
    "import scipy\n",
    "#from torchinfo import summary\n",
    "#from torch_geometric.nn import summary\n",
    "#import torch_geometric.transforms as T\n",
    "import torch\n",
    "import pytorch_lightning as L\n",
    "from lung_repo.pytorch.run_model_torch import RunMalignancyModel\n",
    "#from hnc_project.pytorch.resnet import resnet50\n",
    "#from hnc_project.pytorch import resnet_gcn as rgc"
   ]
  },
  {
   "cell_type": "code",
   "execution_count": null,
   "id": "638470fa-8b52-44da-b739-dc88d1c31752",
   "metadata": {},
   "outputs": [],
   "source": [
    "from lung_repo.pytorch.gen_params_torch_cfg import model_config\n",
    "model_config['batch_size'] = 2\n",
    "model_config['dropout'] = 0.5\n",
    "#model_config['ext_dropout'] = 0.0\n",
    "model_config['n_epochs'] = 100\n",
    "model_config['learning_rate'] = 1e-5\n",
    "model_config['lr_factor'] = 0.1\n",
    "model_config['lr_patience'] = 10\n",
    "#model_config['l2_reg'] = 1e-3\n",
    "model_config['n_classes'] = 2\n",
    "#model_config['data_type'] = 'image'\n",
    "#model_config['model_name'] = 'DeepGCN'\n",
    "##model_config['model_name'] = 'ClinicalGatedGCN'\n",
    "#model_config['model_name'] = 'ResNet50'\n",
    "##model_config['model_name'] = 'GraphAgResNet'\n",
    "model_config['model_name'] = 'EmptyNetwork'\n",
    "#model_config['model_name'] = 'GatedGCN'\n",
    "#model_config['model_name'] = 'myGAT'\n",
    "model_config['extractor_name'] = 'LinearNet'\n",
    "#model_config['extractor_name'] = 'LNCNN'\n",
    "#model_config['extractor_name'] = 'vit'\n",
    "#model_config['extractor_name'] = 'spottune18'\n",
    "model_config['freeze_extractor'] = False\n",
    "model_config['pretrain'] = False\n",
    "##### hidden chanels needs to be set to extractor output when\n",
    "##### using the EmptyNetwork, since it is just a pass through network\n",
    "model_config['extractor_channels'] = 512\n",
    "model_config['n_hidden_channels'] = 64\n",
    "model_config['gnn_out_channels'] = 512\n",
    "model_config['linear_channels'] = 2048\n",
    "##model_config['extractor_name'] = 'DenseNet'\n",
    "#model_config['with_edge_attr'] = False\n",
    "model_config['use_clinical'] = False\n",
    "model_config['n_clinical'] = 7\n",
    "model_config['exclude_unknown'] = True\n",
    "model_config['edge_dim'] = 3\n",
    "#model_config['nested_cross_val'] = False\n",
    "model_config['num_deep_layers'] = 28\n",
    "model_config['n_rotations'] = 5\n",
    "model_config['balance_classes'] = False\n",
    "model_config['region']: 'ROI'\n",
    "model_config['n_in_channels'] = 1\n",
    "model_config['preset_folds'] = True\n",
    "model_config['preset_fold_file'] = 'preset_folds_lung_first.pkl'\n",
    "model_config['class_weight'] = 5\n",
    "model_config['alternate_splitting'] = False\n",
    "#model_config['fold_dir'] = 'liyuan_folds_noLarge'\n",
    "model_config['fold_dir'] = 'folds'\n",
    "model_config['log_dir'] = 'training_graph_lungs_vit_v5'\n",
    "model_config['data_version'] = 'tensor32_rot10_30_undirected_embeddings_v2'\n",
    "model_config['patch_dir'] = 'shulong_files/tensor_32'\n",
    "model_config['patient_feature_file'] = 'features_and_labels_032525.pkl'\n",
    "model_config['edge_file'] = 'proto_graphs_undirected_032525.pkl'\n",
    "model_config['include_primary'] = False\n",
    "model_config['store_embeddings'] = True\n",
    "model_config['use_embeddings'] = True\n",
    "model_config['graph_pooling'] = False"
   ]
  },
  {
   "cell_type": "code",
   "execution_count": null,
   "id": "60e45e89-e0ad-40d0-b272-5ba9a00fd290",
   "metadata": {},
   "outputs": [],
   "source": [
    "model = RunMalignancyModel(model_config)\n",
    "model.set_model()\n",
    "model.set_data()"
   ]
  },
  {
   "cell_type": "code",
   "execution_count": null,
   "id": "135165e7-a591-4d39-aea7-1f76b3404a24",
   "metadata": {},
   "outputs": [],
   "source": [
    "model.set_train_test_split()\n",
    "model.set_data_module()\n",
    "#model.set_nested_data_module()\n",
    "#model.set_callbacks()"
   ]
  },
  {
   "cell_type": "code",
   "execution_count": null,
   "id": "761b8114-3d46-469d-aac3-92e6b76a4e0c",
   "metadata": {},
   "outputs": [],
   "source": [
    "#%%capture output\n",
    "#test_model.set_loss_fn()\n",
    "#test_model.run()\n",
    "#model.run_nested()\n",
    "#model.get_nested_metrics_dataframe()\n",
    "model.run(resume=False)\n",
    "model.get_metrics_dataframe()\n",
    "model.get_predictions()\n",
    "model.get_combined_metrics()\n",
    "#results = test_model.run_nested_crossval()\n",
    "#print(results[1])\n",
    "#print(results[2])\n",
    "print('############################################')\n",
    "print('############################################')\n",
    "print('############################################')\n",
    "print('############################################')\n",
    "print('############################################')\n",
    "print('############################################')"
   ]
  },
  {
   "cell_type": "code",
   "execution_count": null,
   "id": "e36907fd-5f9e-4bea-8aa9-3e8b323a8226",
   "metadata": {},
   "outputs": [],
   "source": [
    "#%%capture output\n",
    "#test_model.set_loss_fn()\n",
    "#test_model.run()\n",
    "#model.run_nested()\n",
    "#model.get_nested_metrics_dataframe()\n",
    "for n_channels in [64,128,256,512,1024]:\n",
    "    model_config['extractor_channels'] = n_channels\n",
    "    model_config['log_dir'] = f'training_graph_lungs_{n_channels}_loop'\n",
    "    model = RunMalignancyModel(model_config)\n",
    "    model.set_model()\n",
    "    model.set_data()\n",
    "    model.set_train_test_split()\n",
    "    model.set_data_module()\n",
    "    model.run(resume=False)\n",
    "    model.get_metrics_dataframe()\n",
    "    model.get_predictions()\n",
    "    model.get_combined_metrics()\n",
    "    print('################################################')\n",
    "    print(model.val_metrics_df)\n",
    "    print(model.test_metrics_df)\n",
    "    print('################################################')\n",
    "\n",
    "#results = test_model.run_nested_crossval()\n",
    "#print(results[1])\n",
    "#print(results[2])\n",
    "print('############################################')\n",
    "print('############################################')\n",
    "print('############################################')\n",
    "print('############################################')\n",
    "print('############################################')\n",
    "print('############################################')"
   ]
  },
  {
   "cell_type": "code",
   "execution_count": null,
   "id": "007e2362-1f9b-4b88-84c9-79a613575f97",
   "metadata": {},
   "outputs": [],
   "source": [
    "model.val_metrics_df"
   ]
  },
  {
   "cell_type": "code",
   "execution_count": null,
   "id": "0fe8fd0d-7bd0-40a3-b09e-a4dc3b76db01",
   "metadata": {},
   "outputs": [],
   "source": [
    "model.test_metrics_df"
   ]
  },
  {
   "cell_type": "code",
   "execution_count": null,
   "id": "29dceda6-c29a-4970-b399-f06bc7031ad5",
   "metadata": {},
   "outputs": [],
   "source": [
    "model.val_metrics_df.groupby('monitor').mean()"
   ]
  },
  {
   "cell_type": "code",
   "execution_count": null,
   "id": "b7f2e0e9-bb2f-4987-b1e5-8c0cfad192a6",
   "metadata": {},
   "outputs": [],
   "source": [
    "model.test_metrics_df.groupby('monitor').mean()"
   ]
  },
  {
   "cell_type": "code",
   "execution_count": null,
   "id": "ec8e1b0c-fc81-4d87-bb01-081987b7161b",
   "metadata": {},
   "outputs": [],
   "source": [
    "model.val_nested_metrics_df"
   ]
  },
  {
   "cell_type": "code",
   "execution_count": null,
   "id": "c2526bb7-cfdb-4e46-bab5-e7bd6e413b06",
   "metadata": {},
   "outputs": [],
   "source": [
    "model.test_nested_metrics_df"
   ]
  },
  {
   "cell_type": "code",
   "execution_count": null,
   "id": "feb4a160-ef22-4a96-ae10-183093f266da",
   "metadata": {},
   "outputs": [],
   "source": [
    "model.val_nested_metrics_df.groupby('nest').mean()"
   ]
  },
  {
   "cell_type": "code",
   "execution_count": null,
   "id": "513ad2bd-7274-4eb0-9463-bd8964d22027",
   "metadata": {},
   "outputs": [],
   "source": [
    "model.test_nested_metrics_df.groupby('nest').mean()"
   ]
  }
 ],
 "metadata": {
  "kernelspec": {
   "display_name": "pytorch-gpu-v3",
   "language": "python",
   "name": "pytorch_gpu_v3"
  },
  "language_info": {
   "codemirror_mode": {
    "name": "ipython",
    "version": 3
   },
   "file_extension": ".py",
   "mimetype": "text/x-python",
   "name": "python",
   "nbconvert_exporter": "python",
   "pygments_lexer": "ipython3",
   "version": "3.12.10"
  }
 },
 "nbformat": 4,
 "nbformat_minor": 5
}
