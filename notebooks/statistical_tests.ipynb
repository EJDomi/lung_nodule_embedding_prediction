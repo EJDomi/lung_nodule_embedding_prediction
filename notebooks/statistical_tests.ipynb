{
 "cells": [
  {
   "cell_type": "code",
   "execution_count": null,
   "id": "67e671e0-1c43-44dd-867e-cdad62ba0082",
   "metadata": {},
   "outputs": [],
   "source": [
    "import os, datetime\n",
    "from pathlib import Path\n",
    "import yaml\n",
    "import numpy as np\n",
    "import pandas as pd\n",
    "import torch\n",
    "import scipy\n",
    "import matplotlib.pyplot as plt\n",
    "#from matplotlib.backends.backend_pdf import PdfPages\n",
    "import scikit_posthocs as sp\n",
    "import torchmetrics\n",
    "#import pytorch_lightning as L\n",
    "#from LN_malignancy_GNN.pytorch.run_model_torch import RunMalignancyModel\n",
    "#from MLstatkit.stats import Delong_test"
   ]
  },
  {
   "cell_type": "code",
   "execution_count": null,
   "id": "b9404dec-0a90-4c39-ba5b-201577d99144",
   "metadata": {},
   "outputs": [],
   "source": [
    "#top\n",
    "gnn_cnn_noedge = './logs/training_chosen_split_undirected_graph_lncnn_noedgedim_no_pretrain_nofreeze_copy_attempt_ch2_class2_dp2_weight1_10rot_balance_feat256_feat64_64_nested_clinical_v18'\n",
    "#graph_log_dir = './logs/training_chosen_split_undirected_graph_lncnn_noedgedim_no_pretrain_nofreeze_copy_attempt_ch2_class2_dp2_weight1_10rot_balance_feat256_feat64_64_nested_clinical_v18'\n",
    "#graph_log_dir = './logs/training_graph_gct_lncnn_edgedim_self_undirected_noclin_2ch_v45'\n",
    "#graph_log_dir = './logs/training_graph_gcn_lncnn_edgedim_self_undirected_noclin_2ch_v51'\n",
    "#graph_log_dir = './logs/training_graph_lncnn_edgedim_self_undirected_noclin_2ch_v54'\n",
    "graph_log_dir = './logs/training_graph_lncnn_edgedim_self_undirected_noclin_2ch_dp0_v56'\n",
    "#graph_log_dir = './logs/training_gcn_lncnn_noedgedim_self_undirected_primary_v33'\n",
    "#graph_log_dir = './logs/training_gcn_lncnn_noedgedim_self_undirected_1ch_v34'\n",
    "#graph_log_dir = './logs/training_gcn_lncnn_noedgedim_self_undirected_2ch_v35'\n",
    "#graph_log_dir = './logs/training_gcn_lncnn_noedgedim_self_undirected_2ch_222_v36'\n",
    "#graph_log_dir = './logs/training_chosen_split_undirected_graph_lncnn_3edgedim_no_pretrain_nofreeze_copy_attempt_ch2_class2_dp1_weight1_10rot_balance_feat256_feat2_2_clinical_v22'\n",
    "#gnn_cnn_3edge = './logs/training_chosen_split_undirected_graph_lncnn_3edgedim_no_self_connections_v23'\n",
    "#gnn_cnn_3edge = './logs/training_graph_gct_lncnn_edgedim_self_undirected_noclin_2ch_v45'\n",
    "#gnn_cnn_3edge = './logs/training_graph_lncnn_edgedim_self_undirected_noclin_2ch_dp0_2batch_v60'\n",
    "#gnn_cnn_3edge = './logs/training_graph_lncnn_edgedim_self_undirected_noclin_2ch_dp0_2batch_v68'\n",
    "#gnn_cnn_3edge = './logs/training_graph_lncnn_edgedim_self_undirected_noclin_2ch_dp0_2batch_v67'\n",
    "gnn_cnn_3edge = './logs/training_graph_lncnn_edgedim_4batch_v76'\n",
    "#gnn_cnn_3edge = './logs/training_graph_lncnn_edgedim_self_undirected_noclin_2ch_dp0_v56'\n",
    "#gnn_cnn_3edge = './logs/training_graph_gcn_lncnn_edgedim_self_undirected_noclin_2ch_v51'\n",
    "#gnn_cnn_3edge = './logs/training_graph_lncnn_edgedim_self_undirected_noclin_2ch_v54'\n",
    "#graph_log_dir = './logs/training_chosen_split_undirected_graph_lncnn_0edgedim_self_connections_v24'\n",
    "#gnn_cnn_primary = './logs/training_chosen_split_undirected_graph_lncnn_3edgedim_self_connections_primary_fixed_v26'\n",
    "gnn_cnn_primary = './logs/training_gcn_lncnn_3edgedim_self_primary_v30'\n",
    "#graph_log_dir = './logs/training_chosen_split_undirected_graph_lncnn_3edgedim_self_connections_primary_no_self_v27'\n",
    "#no_graph_log_dir = './logs/training_chosen_split_no_graph_lncnn_noedgedim_no_pretrain_nofreeze_copy_attempt_ch2_class2_dp2_weight1_10rot_balance_feat256_nested_clinical_v15'\n",
    "#no_graph_log_dir = './logs/training_nograph_lncnn_edgedim_self_undirected_2ch_222_v37'\n",
    "#no_graph_log_dir = './logs/training_no_graph_gcn_lncnn_edgedim_self_undirected_noclin_2ch_v46'\n",
    "#no_graph_log_dir = './logs/training_no_graph_lncnn_edgedim_self_undirected_noclin_2ch_v52'\n",
    "no_graph_log_dir = './logs/training_nograph_lncnn_edgedim_self_undirected_noclin_2ch_dp0_2batch_v61'\n",
    "liyuan_svm = '../../data/ln_malignancy/liyuan_svm_predictions'\n",
    "liyuan_cnn = '../../data/ln_malignancy/liyuan_cnn_predictions'\n",
    "\n",
    "folds_dir = '../../data/ln_malignancy/liyuan_folds'\n",
    "folds_path = Path(folds_dir)\n",
    "\n",
    "test_pred_file = 'metric_dfs/test_predictions.pkl'\n",
    "val_pred_file = 'metric_dfs/val_predictions.pkl'"
   ]
  },
  {
   "cell_type": "code",
   "execution_count": null,
   "id": "33309056-6a0b-40cf-beb8-e743f717445e",
   "metadata": {},
   "outputs": [],
   "source": [
    "node_dict = pd.read_pickle('../../data/ln_malignancy/node_index_no_large.pkl')"
   ]
  },
  {
   "cell_type": "code",
   "execution_count": null,
   "id": "2508e3cb-7886-449d-97d6-f860151d860a",
   "metadata": {},
   "outputs": [],
   "source": [
    "node_dict['fold_dict']['fold_1'].append(node_dict['fold_dict']['fold_2'][0])"
   ]
  },
  {
   "cell_type": "code",
   "execution_count": null,
   "id": "075ed9df-d405-4404-850e-2b54408678df",
   "metadata": {},
   "outputs": [],
   "source": [
    "node_dict['fold_dict']['fold_2'].pop(0)"
   ]
  },
  {
   "cell_type": "code",
   "execution_count": null,
   "id": "8e61f27f-b012-4ee7-ad52-4d921d09230f",
   "metadata": {},
   "outputs": [],
   "source": [
    "old_fold_dict = {}\n",
    "for idx in range(5):\n",
    "    old_fold_dict[f'fold_{idx}'] = [f.name.split('.')[0] for f in sorted(Path('../../data/ln_malignancy/liyuan_folds').glob(f\"F{idx+1}/label/*\"), key=lambda x: (int(x.name.split('.')[0].split('_')[0]), int(x.name.split('.')[0].split('_')[1])))]"
   ]
  },
  {
   "cell_type": "code",
   "execution_count": null,
   "id": "3e8f5912-0e24-41cd-872a-3667349a6ad0",
   "metadata": {},
   "outputs": [],
   "source": [
    "for idx in range(5):\n",
    "    node_dict['fold_dict'][f'fold_{idx}'] = sorted(node_dict['fold_dict'][f'fold_{idx}'], key=lambda x: (int(x.split('_')[0]), int(x.split('_')[1])))"
   ]
  },
  {
   "cell_type": "code",
   "execution_count": null,
   "id": "9dac8fbe-0cae-41b3-9e70-2fe7e933c5b3",
   "metadata": {},
   "outputs": [],
   "source": [
    "for idx in range(5):\n",
    "    node_dict['node_idx'][f'fold_{idx}'] = [old_fold_dict[f'fold_{idx}'].index(ln) for ln in node_dict['fold_dict'][f'fold_{idx}']]"
   ]
  },
  {
   "cell_type": "code",
   "execution_count": null,
   "id": "66ac7d94-9936-4fe3-b36e-3ed52e7aa9e0",
   "metadata": {},
   "outputs": [],
   "source": [
    "len(node_dict['fold_dict']['fold_1'])"
   ]
  },
  {
   "cell_type": "code",
   "execution_count": null,
   "id": "8477224b-60b6-4e52-b6f2-2a7d9915546d",
   "metadata": {},
   "outputs": [],
   "source": [
    "test_gnn_cnn_noedge_pred = pd.read_pickle(os.path.join(gnn_cnn_noedge, test_pred_file))\n",
    "test_graph_pred = pd.read_pickle(os.path.join(gnn_cnn_3edge, test_pred_file))\n",
    "test_gnn_cnn_3edge_pred = pd.read_pickle(os.path.join(gnn_cnn_3edge, test_pred_file))\n",
    "test_gnn_cnn_primary_pred = pd.read_pickle(os.path.join(gnn_cnn_primary, test_pred_file))\n",
    "test_no_graph_pred = pd.read_pickle(os.path.join(no_graph_log_dir, test_pred_file))\n"
   ]
  },
  {
   "cell_type": "code",
   "execution_count": null,
   "id": "9fa94691-cb89-4521-b751-ddb7779b197f",
   "metadata": {},
   "outputs": [],
   "source": [
    "test_graph_pred_small = test_graph_pred.copy(deep=True)\n",
    "for idx in range(5):\n",
    "    print(idx)\n",
    "    for col in test_graph_pred_small.columns:\n",
    "        print(col)\n",
    "        test_graph_pred_small.loc[idx, col] = test_graph_pred.loc[idx, col][node_dict['node_idx'][f'fold_{idx}']]"
   ]
  },
  {
   "cell_type": "code",
   "execution_count": null,
   "id": "e58800c7-2e60-4955-9558-02f4a902d588",
   "metadata": {},
   "outputs": [],
   "source": [
    "test_no_graph_pred_small = test_no_graph_pred.copy(deep=True)\n",
    "for idx in range(5):\n",
    "    print(idx)\n",
    "    for col in test_no_graph_pred_small.columns:\n",
    "        print(col)\n",
    "        test_no_graph_pred_small.loc[idx, col] = test_no_graph_pred.loc[idx, col][node_dict['node_idx'][f'fold_{idx}']]"
   ]
  },
  {
   "cell_type": "code",
   "execution_count": null,
   "id": "d60a5145-28e9-427a-8667-5fa71efa93ac",
   "metadata": {},
   "outputs": [],
   "source": [
    "test_graph_pred_large = test_graph_pred.copy(deep=True)\n",
    "for idx in range(5):\n",
    "    print(idx)\n",
    "    for col in test_graph_pred_large.columns:\n",
    "        print(col)\n",
    "        test_graph_pred_large.loc[idx, col] = [ln for jdx, ln in enumerate(test_graph_pred.loc[idx, col]) if jdx not in node_dict['node_idx'][f'fold_{idx}']]"
   ]
  },
  {
   "cell_type": "code",
   "execution_count": null,
   "id": "a71afdb2-0b28-457e-942f-56d4f088ac0e",
   "metadata": {},
   "outputs": [],
   "source": [
    "test_no_graph_pred_large = test_no_graph_pred.copy(deep=True)\n",
    "for idx in range(5):\n",
    "    print(idx)\n",
    "    for col in test_no_graph_pred_large.columns:\n",
    "        print(col)\n",
    "        test_no_graph_pred_large.loc[idx, col] = [ln for jdx, ln in enumerate(test_no_graph_pred.loc[idx, col]) if jdx not in node_dict['node_idx'][f'fold_{idx}']]"
   ]
  },
  {
   "cell_type": "code",
   "execution_count": null,
   "id": "57796499-b58e-4dd5-81a2-2efa8967cdb0",
   "metadata": {},
   "outputs": [],
   "source": [
    "#test_gnn_cnn_noedge_avg = []\n",
    "test_gnn_cnn_3edge_avg = []\n",
    "test_gnn_cnn_3edge_auc_avg = []\n",
    "test_gnn_cnn_3edge_m_avg = []\n",
    "test_gnn_cnn_primary_avg = []\n",
    "test_graph_avg = []\n",
    "test_no_graph_avg = []\n",
    "test_no_graph_auc_avg = []\n",
    "test_no_graph_m_avg = []\n",
    "targets = []\n",
    "test_graph_small_avg = []\n",
    "test_graph_small_auc_avg = []\n",
    "test_graph_small_m_avg = []\n",
    "test_no_graph_small_avg = []\n",
    "test_no_graph_small_auc_avg = []\n",
    "test_no_graph_small_m_avg = []\n",
    "targets_small = []\n",
    "test_graph_large_avg = []\n",
    "test_graph_large_auc_avg = []\n",
    "test_graph_large_m_avg = []\n",
    "test_no_graph_large_avg = []\n",
    "test_no_graph_large_auc_avg = []\n",
    "test_no_graph_large_m_avg = []\n",
    "targets_large = []\n",
    "for idx in range(5):\n",
    "    #test_gnn_cnn_noedge_avg.extend(list(test_gnn_cnn_noedge_pred['val_auc'][idx]))\n",
    "    test_graph_avg.extend(list(test_gnn_cnn_noedge_pred['val_auc'][idx]))\n",
    "    #test_gnn_cnn_3edge_avg.extend(list(test_gnn_cnn_3edge_pred['val_auc'][idx]))\n",
    "    test_gnn_cnn_3edge_auc_avg.extend(list(test_gnn_cnn_3edge_pred['val_auc'][idx]))\n",
    "    test_gnn_cnn_3edge_m_avg.extend(list(test_gnn_cnn_3edge_pred['val_m'][idx]))\n",
    "    test_gnn_cnn_3edge_avg = np.average([\n",
    "                                         test_gnn_cnn_3edge_auc_avg, \n",
    "                                         test_gnn_cnn_3edge_m_avg,\n",
    "                                        ], axis=0)\n",
    "    test_gnn_cnn_primary_avg.extend(list(test_gnn_cnn_primary_pred['val_auc'][idx]))\n",
    "    \n",
    "    #test_no_graph_avg.extend(list(test_no_graph_pred['val_m'][idx]))\n",
    "    test_no_graph_auc_avg.extend(list(test_no_graph_pred['val_auc'][idx]))\n",
    "    test_no_graph_m_avg.extend(list(test_no_graph_pred['val_m'][idx]))\n",
    "    test_no_graph_avg = np.average([\n",
    "                                         test_no_graph_auc_avg, \n",
    "                                         test_no_graph_m_avg,\n",
    "                                        ], axis=0)\n",
    "    targets.extend(list(test_no_graph_pred['targets'][idx]))\n",
    "\n",
    "    #test_graph_small_avg.extend(list(test_graph_pred_small['val_auc'][idx]))\n",
    "    test_graph_small_auc_avg.extend(list(test_graph_pred_small['val_auc'][idx]))\n",
    "    test_graph_small_m_avg.extend(list(test_graph_pred_small['val_m'][idx]))\n",
    "    test_graph_small_avg = np.average([\n",
    "                                         test_graph_small_auc_avg, \n",
    "                                         test_graph_small_m_avg,\n",
    "                                        ], axis=0)\n",
    "    #test_no_graph_small_avg.extend(list(test_no_graph_pred_small['val_m'][idx]))\n",
    "    test_no_graph_small_auc_avg.extend(list(test_no_graph_pred_small['val_auc'][idx]))\n",
    "    test_no_graph_small_m_avg.extend(list(test_no_graph_pred_small['val_m'][idx]))\n",
    "    test_no_graph_small_avg = np.average([\n",
    "                                         test_no_graph_small_auc_avg, \n",
    "                                         test_no_graph_small_m_avg,\n",
    "                                        ], axis=0)\n",
    "    targets_small.extend(list(test_graph_pred_small['targets'][idx]))\n",
    "    \n",
    "    #test_graph_large_avg.extend(list(test_graph_pred_large['val_auc'][idx]))\n",
    "    test_graph_large_auc_avg.extend(list(test_graph_pred_large['val_auc'][idx]))\n",
    "    test_graph_large_m_avg.extend(list(test_graph_pred_large['val_m'][idx]))\n",
    "    test_graph_large_avg = np.average([\n",
    "                                         test_graph_large_auc_avg, \n",
    "                                         test_graph_large_m_avg,\n",
    "                                        ], axis=0)\n",
    "    #test_no_graph_large_avg.extend(list(test_no_graph_pred_large['val_m'][idx]))\n",
    "    test_no_graph_large_auc_avg.extend(list(test_no_graph_pred_large['val_auc'][idx]))\n",
    "    test_no_graph_large_m_avg.extend(list(test_no_graph_pred_large['val_m'][idx]))\n",
    "    test_no_graph_large_avg = np.average([\n",
    "                                         test_no_graph_large_auc_avg, \n",
    "                                         test_no_graph_large_m_avg,\n",
    "                                        ], axis=0)\n",
    "    targets_large.extend(list(test_graph_pred_large['targets'][idx]))\n",
    "    \n",
    "#test_gnn_cnn_noedge_avg = np.array(test_gnn_cnn_noedge_avg)\n",
    "test_graph_avg = np.array(test_graph_avg)\n",
    "test_gnn_cnn_3edge_avg = np.array(test_gnn_cnn_3edge_avg)\n",
    "test_gnn_cnn_primary_avg = np.array(test_gnn_cnn_primary_avg)\n",
    "test_no_graph_avg = np.array(test_no_graph_avg)\n",
    "targets = np.array(targets)\n",
    "\n",
    "test_graph_small_avg = np.array(test_graph_small_avg)\n",
    "test_no_graph_small_avg = np.array(test_no_graph_small_avg)\n",
    "targets_small = np.array(targets_small)\n",
    "\n",
    "test_graph_large_avg = np.array(test_graph_large_avg)\n",
    "test_no_graph_large_avg = np.array(test_no_graph_large_avg)\n",
    "targets_large = np.array(targets_large)\n",
    "#test_graph_avg = np.mean(test_graph_avg, axis=0)    \n",
    "#test_no_graph_avg = np.mean(test_no_graph_avg, axis=0)    "
   ]
  },
  {
   "cell_type": "code",
   "execution_count": null,
   "id": "ea092d84-8cf3-43fd-91a8-fe6f60bc1edb",
   "metadata": {},
   "outputs": [],
   "source": [
    "pred_avg_dict = {\n",
    "    #'gnn_cnn_noedge': test_gnn_cnn_noedge_avg,\n",
    "    'gnn_cnn_3edge': test_gnn_cnn_3edge_avg,\n",
    "    'gnn_cnn_primary': test_gnn_cnn_primary_avg,\n",
    "    'no_graph': test_no_graph_avg,\n",
    "    }\n",
    "small_avg_dict = {\n",
    "    'gnn_cnn_3edge': test_graph_small_avg,\n",
    "    'no_graph': test_no_graph_small_avg\n",
    "}\n",
    "large_avg_dict = {\n",
    "    'gnn_cnn_3edge': test_graph_large_avg,\n",
    "    'no_graph': test_no_graph_large_avg,\n",
    "}"
   ]
  },
  {
   "cell_type": "code",
   "execution_count": null,
   "id": "06eeca25-7489-4df9-b54c-d8bef15c5f11",
   "metadata": {},
   "outputs": [],
   "source": [
    "t, p = scipy.stats.ttest_ind(test_graph_small_avg, test_graph_avg)\n",
    "#t, p = scipy.stats.ttest_rel(test_no_graph_small_avg, test_no_graph_avg)\n",
    "print(p)"
   ]
  },
  {
   "cell_type": "code",
   "execution_count": null,
   "id": "64e0738c-c334-4d85-94aa-c7cc1544d5d5",
   "metadata": {},
   "outputs": [],
   "source": [
    "delong_results = [[(model1, model2), Delong_test(targets.ravel(), np.array(pred_avg_dict[model1]).ravel(), np.array(pred_avg_dict[model2]).ravel())] \n",
    "                  for model1 in pred_avg_dict for model2 in pred_avg_dict]\n",
    "for res in delong_results:\n",
    "    print(res)\n",
    "#Delong_test(targets.ravel(), np.array(test_no_graph_avg).ravel(), test_graph_avg.ravel())"
   ]
  },
  {
   "cell_type": "code",
   "execution_count": null,
   "id": "dad07989-f6cf-4777-9df5-d2526dceed59",
   "metadata": {},
   "outputs": [],
   "source": [
    "delong_results = [[(model1, model2), Delong_test(targets_small.ravel(), np.array(small_avg_dict[model1]).ravel(), np.array(small_avg_dict[model2]).ravel())] \n",
    "                  for model1 in small_avg_dict for model2 in small_avg_dict]\n",
    "for res in delong_results:\n",
    "    print(res)\n",
    "#Delong_test(targets.ravel(), np.array(test_no_graph_avg).ravel(), test_graph_avg.ravel())"
   ]
  },
  {
   "cell_type": "code",
   "execution_count": null,
   "id": "b4d0e507-f208-4920-8448-6505ddddb78f",
   "metadata": {},
   "outputs": [],
   "source": [
    "for idx in range(5):\n",
    "    t1, p1 = scipy.stats.ttest_rel(val_graph_pred['val_m'][idx], val_no_graph_pred['val_m'][idx])\n",
    "    t2, p2 = scipy.stats.ttest_rel(test_graph_pred['val_m'][idx], test_no_graph_pred['val_m'][idx])\n",
    "    print(p1, p2)"
   ]
  },
  {
   "cell_type": "code",
   "execution_count": null,
   "id": "650a0a1a-77d4-454b-9ca1-abb6ac49b01d",
   "metadata": {},
   "outputs": [],
   "source": [
    "# all of the metrics used in the evaluation, can add or remove as desired\n",
    "#L.seed_everything(42)\n",
    "auc_fn = torchmetrics.classification.BinaryAUROC()\n",
    "acc_fn = torchmetrics.classification.BinaryAccuracy()\n",
    "ap_fn = torchmetrics.classification.BinaryAveragePrecision()\n",
    "spe_fn = torchmetrics.classification.BinarySpecificity()\n",
    "sen_fn = torchmetrics.classification.BinaryRecall()\n",
    "\n",
    "roc_fn = torchmetrics.classification.BinaryROC()\n",
    "pr_fn = torchmetrics.classification.BinaryPrecisionRecallCurve()"
   ]
  },
  {
   "cell_type": "code",
   "execution_count": null,
   "id": "03d7d625-ceda-4ece-acce-6780cde40a84",
   "metadata": {},
   "outputs": [],
   "source": [
    "# resets metric functions, should be run for each successive evaluation of probabilities as values entered into functions are persistent until reset\n",
    "auc_fn.reset()\n",
    "acc_fn.reset()\n",
    "ap_fn.reset()\n",
    "spe_fn.reset()\n",
    "sen_fn.reset()\n",
    "roc_fn.reset()\n",
    "pr_fn.reset()"
   ]
  },
  {
   "cell_type": "code",
   "execution_count": null,
   "id": "d6d8f73b-4481-40ff-aabd-ae7b69b78cc4",
   "metadata": {},
   "outputs": [],
   "source": [
    "fusion_avg = np.average((pred_avg_dict['gnn_cnn_3edge'], pred_avg_dict['no_graph']), axis=0)"
   ]
  },
  {
   "cell_type": "code",
   "execution_count": null,
   "id": "a5634550-c61e-486b-8081-45ed680e8cd7",
   "metadata": {},
   "outputs": [],
   "source": [
    "auc_fn(torch.tensor(fusion_avg), torch.tensor(targets))"
   ]
  },
  {
   "cell_type": "code",
   "execution_count": null,
   "id": "59a6c843-655e-494b-8d5c-de36c4d6648b",
   "metadata": {},
   "outputs": [],
   "source": [
    "for model in pred_avg_dict:\n",
    "    print(model)\n",
    "    print('auc:', auc_fn(torch.tensor(pred_avg_dict[model]), torch.tensor(targets)))\n",
    "    print('acc:', acc_fn(torch.tensor(pred_avg_dict[model]), torch.tensor(targets)))\n",
    "    print('ap:', ap_fn(torch.tensor(pred_avg_dict[model]), torch.tensor(targets)))\n",
    "    print('sen:', sen_fn(torch.tensor(pred_avg_dict[model]), torch.tensor(targets)))\n",
    "    print('spe:', spe_fn(torch.tensor(pred_avg_dict[model]), torch.tensor(targets)))\n",
    "    "
   ]
  },
  {
   "cell_type": "code",
   "execution_count": null,
   "id": "b4d1a79d-4bba-4fbd-a7a4-aa5dda259866",
   "metadata": {},
   "outputs": [],
   "source": [
    "for model in small_avg_dict:\n",
    "    print(model)\n",
    "    print('auc:', auc_fn(torch.tensor(small_avg_dict[model]), torch.tensor(targets_small)))\n",
    "    print('acc:', acc_fn(torch.tensor(small_avg_dict[model]), torch.tensor(targets_small)))\n",
    "    print('ap:', ap_fn(torch.tensor(small_avg_dict[model]), torch.tensor(targets_small)))\n",
    "    print('sen:', sen_fn(torch.tensor(small_avg_dict[model]), torch.tensor(targets_small)))\n",
    "    print('spe:', spe_fn(torch.tensor(small_avg_dict[model]), torch.tensor(targets_small)))\n",
    "    "
   ]
  },
  {
   "cell_type": "code",
   "execution_count": null,
   "id": "54dd71a9-9ebb-48b5-9d39-0599402e5598",
   "metadata": {},
   "outputs": [],
   "source": [
    "for model in large_avg_dict:\n",
    "    print(model)\n",
    "    print('auc:', auc_fn(torch.tensor(large_avg_dict[model]), torch.tensor(targets_large)))\n",
    "    print('acc:', acc_fn(torch.tensor(large_avg_dict[model]), torch.tensor(targets_large)))\n",
    "    print('ap:', ap_fn(torch.tensor(large_avg_dict[model]), torch.tensor(targets_large)))\n",
    "    print('sen:', sen_fn(torch.tensor(large_avg_dict[model]), torch.tensor(targets_large)))\n",
    "    print('spe:', spe_fn(torch.tensor(large_avg_dict[model]), torch.tensor(targets_large)))\n",
    "    "
   ]
  },
  {
   "cell_type": "code",
   "execution_count": null,
   "id": "3bb88acc-78b0-459d-a1a0-934a146a5633",
   "metadata": {},
   "outputs": [],
   "source": [
    "len(targets_small)"
   ]
  },
  {
   "cell_type": "code",
   "execution_count": null,
   "id": "3b1c79d5-49d3-4188-b6f8-080fe7efa300",
   "metadata": {},
   "outputs": [],
   "source": [
    "graph_auc = auc_fn(torch.tensor(test_graph_avg), torch.tensor(targets))\n",
    "no_graph_auc = auc_fn(torch.tensor(test_no_graph_avg), torch.tensor(targets))\n",
    "graph_ap = ap_fn(torch.tensor(test_graph_avg), torch.tensor(targets))\n",
    "no_graph_ap = ap_fn(torch.tensor(test_no_graph_avg), torch.tensor(targets))\n",
    "graph_sen = sen_fn(torch.tensor(test_graph_avg), torch.tensor(targets))\n",
    "no_graph_sen = sen_fn(torch.tensor(test_no_graph_avg), torch.tensor(targets))\n",
    "graph_spe = spe_fn(torch.tensor(test_graph_avg), torch.tensor(targets))\n",
    "no_graph_spe = spe_fn(torch.tensor(test_no_graph_avg), torch.tensor(targets))\n",
    "print('auc:', graph_auc, no_graph_auc)\n",
    "print('ap:', graph_ap, no_graph_ap)\n",
    "print('sen:', graph_sen, no_graph_sen)\n",
    "print('spe:', graph_spe, no_graph_spe)"
   ]
  },
  {
   "cell_type": "code",
   "execution_count": null,
   "id": "be61e75a-ae8a-4aac-8481-a3db332e618b",
   "metadata": {},
   "outputs": [],
   "source": [
    "graph_fold_aucs = []\n",
    "no_graph_fold_aucs = []\n",
    "for idx in range(5):\n",
    "    graph_fold_aucs.append(auc_fn((test_graph_pred['val_auc'][idx]), test_graph_pred['targets'][idx]))\n",
    "    no_graph_fold_aucs.append(auc_fn((test_no_graph_pred['val_auc'][idx]), test_no_graph_pred['targets'][idx]))\n",
    "\n",
    "print((graph_fold_aucs))\n",
    "print((no_graph_fold_aucs))"
   ]
  },
  {
   "cell_type": "code",
   "execution_count": null,
   "id": "98cf0ba9-d547-42ed-bcd7-703808ad1006",
   "metadata": {},
   "outputs": [],
   "source": [
    "log_path = Path('./logs')\n",
    "metric_dict = {}\n",
    "for pred_file in sorted(log_path.rglob('metric_dfs/*predictions.pkl'), key=lambda x: x.as_posix().split('/')[1].split('_')[-1]):\n",
    "    #print(pred_file)\n",
    "    if 'test_predictions' not in pred_file.as_posix(): continue\n",
    "    if 'test_k' in pred_file.as_posix(): continue\n",
    "    model = pred_file.as_posix().split('/')[1]\n",
    "    if int(model.split('_')[-1].split('v')[-1]) < 30: continue\n",
    "    pred_avg = []\n",
    "    targets = []\n",
    "    model = pred_file.as_posix().split('/')[1]\n",
    "    #print(model)\n",
    "    predictions = pd.read_pickle(pred_file)\n",
    "    for idx in range(5):\n",
    "        pred_avg.extend(list(predictions['val_auc'][idx]))\n",
    "        targets.extend(list(predictions['targets'][idx]))\n",
    "    #pred_avg = np.average(pred_avg, axis=0)\n",
    "    #print(len(pred_avg), len(targets))\n",
    "    pred_avg = np.array(pred_avg)\n",
    "    targets = np.array(targets)\n",
    "    auc = auc_fn(torch.tensor(pred_avg), torch.tensor(targets))\n",
    "    ap = ap_fn(torch.tensor(pred_avg), torch.tensor(targets).to(torch.long))\n",
    "    sen = sen_fn(torch.tensor(pred_avg), torch.tensor(targets))\n",
    "    spe = spe_fn(torch.tensor(pred_avg), torch.tensor(targets))\n",
    "    metric_dict[model] = [float(auc), float(ap), float(sen), float(spe)]\n",
    "\n",
    "metric_df = pd.DataFrame(metric_dict, columns=['AUC', 'AP', 'SEN', 'SPE'], index=metric_dict.keys())\n",
    "for key in metric_dict.keys():\n",
    "    metric_df.loc[key] = metric_dict[key]\n",
    "metric_df"
   ]
  },
  {
   "cell_type": "code",
   "execution_count": null,
   "id": "6b770902-22cf-4bd9-8435-bb6362208677",
   "metadata": {},
   "outputs": [],
   "source": []
  },
  {
   "cell_type": "code",
   "execution_count": null,
   "id": "139cac9e-f4b9-477d-b9be-1c7bf225b3e8",
   "metadata": {},
   "outputs": [],
   "source": [
    "metrics = [0.965, 0.5, 0.954] \n",
    "metrics_small = [0.965, 0.5, 0.964, 0.954, 0.952]"
   ]
  },
  {
   "cell_type": "code",
   "execution_count": null,
   "id": "7dcf62c6-28b3-43a3-83d2-5c82e7133a2d",
   "metadata": {},
   "outputs": [],
   "source": [
    "from sklearn.metrics import RocCurveDisplay\n",
    "#figure = plt.figure()\n",
    "#axes = figure.add_subplot(111)\n",
    "display = RocCurveDisplay.from_predictions(targets.ravel(), pred_avg_dict['gnn_cnn_3edge'].ravel(), name='CNN+GNN', plot_chance_level=True)\n",
    "#RocCurveDisplay.from_predictions(targets.ravel(), pred_avg_dict['gnn_cnn_primary'].ravel(), name='CNN+GNN+GTVp', plot_chance_level=False, ax=display.ax_)\n",
    "RocCurveDisplay.from_predictions(targets.ravel(), pred_avg_dict['no_graph'].ravel(), name='CNN-only', plot_chance_level=False, ax=display.ax_)\n",
    "plt.grid(visible=True, which='both')\n",
    "plt.xlabel('False Positive Rate')\n",
    "plt.ylabel('True Positive Rate')\n",
    "handles, labels = plt.gca().get_legend_handles_labels()\n",
    "line_styles = ['-', '--', ':', '-.']\n",
    "for line, ls in zip(display.ax_.get_lines(), line_styles):\n",
    "    line.set_linestyle(ls)\n",
    "plt.legend([handles[idx] for idx in [0, 2, 1]], \n",
    "           [labels[idx].replace(''.join(labels[idx][-5:]), f'{metrics[idx]:.3f})')  for idx in [0, 2, 1]])\n",
    "display.figure_.savefig(f\"roc_curve_GNN_v7.png\", dpi=600)\n",
    "plt.show()"
   ]
  },
  {
   "cell_type": "code",
   "execution_count": null,
   "id": "aff525e9-80f3-497b-a12b-79711e74f6e0",
   "metadata": {},
   "outputs": [],
   "source": [
    "from sklearn.metrics import RocCurveDisplay\n",
    "#figure = plt.figure()\n",
    "#axes = figure.add_subplot(111)\n",
    "display = RocCurveDisplay.from_predictions(targets.ravel(), pred_avg_dict['gnn_cnn_3edge'].ravel(), name='CNN+GNN', plot_chance_level=True)\n",
    "RocCurveDisplay.from_predictions(targets_small.ravel(), small_avg_dict['gnn_cnn_3edge'].ravel(), name='CNN+GNN (size < 17 mm)', plot_chance_level=False, ax=display.ax_)\n",
    "RocCurveDisplay.from_predictions(targets.ravel(), pred_avg_dict['no_graph'].ravel(), name='CNN-only', plot_chance_level=False, ax=display.ax_)\n",
    "RocCurveDisplay.from_predictions(targets_small.ravel(), small_avg_dict['no_graph'].ravel(), name='CNN-only, (size < 17 mm)', plot_chance_level=False, ax=display.ax_)\n",
    "plt.grid(visible=True, which='both')\n",
    "plt.xlabel('False Positive Rate')\n",
    "plt.ylabel('True Positive Rate')\n",
    "handles, labels = plt.gca().get_legend_handles_labels()\n",
    "line_styles = ['-', '--', ':', '-.']\n",
    "for line, ls in zip(display.ax_.get_lines(), line_styles):\n",
    "    line.set_linestyle(ls)\n",
    "plt.legend([handles[idx] for idx in [0, 2, 3, 4, 1]], \n",
    "           [labels[idx].replace(''.join(labels[idx][-5:]), f'{metrics_small[idx]:.3f})') for idx in [0, 2, 3, 4, 1]])\n",
    "display.figure_.savefig(f\"roc_curve_GNN_small_v7.png\", dpi=600)\n",
    "plt.show()"
   ]
  },
  {
   "cell_type": "code",
   "execution_count": null,
   "id": "f49c0647-7989-41ec-8d82-7b456d0f6ae7",
   "metadata": {},
   "outputs": [],
   "source": [
    "plt.ion()"
   ]
  },
  {
   "cell_type": "code",
   "execution_count": null,
   "id": "e5686d73-2065-4cf6-8ddc-bd0a710f1976",
   "metadata": {},
   "outputs": [],
   "source": [
    "from sklearn.metrics import RocCurveDisplay\n",
    "#figure = plt.figure()\n",
    "#axes = figure.add_subplot(111)\n",
    "display = RocCurveDisplay.from_predictions(targets.ravel(), pred_avg_dict['gnn_cnn_noedge'].ravel(), name='CNN+GNN', plot_chance_level=True)\n",
    "RocCurveDisplay.from_predictions(targets.ravel(), pred_avg_dict['gnn_cnn_primary'].ravel(), name='CNN+GNN+GTVp', plot_chance_level=False, ax=display.ax_)\n",
    "RocCurveDisplay.from_predictions(targets.ravel(), pred_avg_dict['no_graph'].ravel(), name='CNN-only', plot_chance_level=False, ax=display.ax_)\n",
    "plt.grid(visible=True, which='both')\n",
    "plt.xlabel('False Positive Rate')\n",
    "plt.ylabel('True Positive Rate')\n",
    "handles, labels = plt.gca().get_legend_handles_labels()\n",
    "line_styles = ['-', '--', '-.', ':']\n",
    "for line, ls in zip(display.ax_.get_lines(), line_styles):\n",
    "    line.set_linestyle(ls)\n",
    "plt.legend([handles[idx] for idx in [0, 2, 3, 1]], [labels[idx] for idx in [0, 2, 3, 1]])\n",
    "\n",
    "display.figure_.savefig(f\"roc_curve_GNN_zoom_v3.pdf\", dpi=600)\n",
    "plt.show()\n"
   ]
  },
  {
   "cell_type": "code",
   "execution_count": null,
   "id": "e206c5b1-7d6a-492f-99d1-bc7b6c1ef901",
   "metadata": {},
   "outputs": [],
   "source": [
    "roc_fn = torchmetrics.classification.BinaryROC()\n",
    "roc_fn.update(torch.tensor(test_graph_avg), torch.tensor(targets))\n",
    "fig_, ax_ = roc_fn.plot(score=True)\n",
    "roc_fn.reset()\n",
    "roc_fn.update(torch.tensor(test_no_graph_avg), torch.tensor(targets))\n",
    "roc_fn.plot(score=True, ax=ax_)\n",
    "handles, labels = ax_.get_legend_handles_labels()\n",
    "ax_.legend([f\"CNN+GNN ({labels[0]})\", f\"CNN-only ({labels[1]})\"]) \n",
    "fig_.savefig(f\"roc_curve_top_comparison.pdf\", dpi=600)"
   ]
  },
  {
   "cell_type": "code",
   "execution_count": null,
   "id": "a62419ec-7063-4a4d-b77f-d08a636bdfeb",
   "metadata": {},
   "outputs": [],
   "source": []
  },
  {
   "cell_type": "code",
   "execution_count": null,
   "id": "6faecd18-a509-4f7b-b7f5-d1bf775d78d7",
   "metadata": {},
   "outputs": [],
   "source": [
    "display.figure_.savefig(f\"roc_curve_GNN.png\", dpi=600)"
   ]
  },
  {
   "cell_type": "code",
   "execution_count": null,
   "id": "3aa1899f-b69a-4696-8308-1beb8a9525d9",
   "metadata": {},
   "outputs": [],
   "source": [
    "len(test_graph_pred['targets'][4])"
   ]
  },
  {
   "cell_type": "markdown",
   "id": "39bb8f24-5dfd-4536-9f2f-ba4474445198",
   "metadata": {},
   "source": [
    "### Testing models"
   ]
  },
  {
   "cell_type": "code",
   "execution_count": null,
   "id": "dfe0c992-b3be-4920-8cca-287ddd702387",
   "metadata": {},
   "outputs": [],
   "source": [
    "graph_log_dir = './logs/training_chosen_split_undirected_graph_lncnn_noedgedim_no_pretrain_nofreeze_copy_attempt_ch2_class2_dp2_weight1_10rot_balance_feat256_feat64_64_nested_clinical_v18'\n",
    "cnn_log_dir = './logs/training_chosen_split_no_graph_lncnn_noedgedim_no_pretrain_nofreeze_copy_attempt_ch2_class2_dp2_weight1_10rot_balance_feat256_nested_clinical_v15'\n",
    "test_pred_file = 'metric_dfs/test_predictions.pkl'\n",
    "gnn_config_file = os.path.join(graph_log_dir, 'csvlog_fold_0','lightning_logs','version_1','hparams.yaml')\n",
    "cnn_config_file = os.path.join(no_graph_log_dir, 'csvlog_fold_0','lightning_logs','version_0','hparams.yaml')\n",
    "graph_auc_models = [\n",
    "    'model_epoch=93_val_loss=0.19_val_auc=0.98_val_m=0.91.ckpt',\n",
    "    'model_epoch=42_val_loss=0.22_val_auc=0.97_val_m=0.91.ckpt',\n",
    "    'model_epoch=89_val_loss=0.19_val_auc=0.98_val_m=0.88.ckpt',\n",
    "    'model_epoch=73_val_loss=0.33_val_auc=0.94_val_m=0.88.ckpt',\n",
    "    'model_epoch=58_val_loss=0.20_val_auc=0.98_val_m=0.90.ckpt',\n",
    "]\n",
    "graph_loss_models = [\n",
    "    'model_loss_epoch=93_val_loss=0.19_val_auc=0.98_val_m=0.91.ckpt',\n",
    "    'model_loss_epoch=52_val_loss=0.22_val_auc=0.97_val_m=0.91.ckpt',\n",
    "    'model_loss_epoch=89_val_loss=0.19_val_auc=0.98_val_m=0.88.ckpt',\n",
    "    'model_loss_epoch=73_val_loss=0.33_val_auc=0.94_val_m=0.88.ckpt',\n",
    "    'model_loss_epoch=39_val_loss=0.20_val_auc=0.98_val_m=0.90.ckpt',\n",
    "]\n",
    "graph_m_models = [\n",
    "    'model_m_epoch=92_val_loss=0.22_val_auc=0.97_val_m=0.92.ckpt',\n",
    "    'model_m_epoch=57_val_loss=0.23_val_auc=0.97_val_m=0.91.ckpt',\n",
    "    'model_m_epoch=26_val_loss=0.29_val_auc=0.95_val_m=0.90.ckpt',\n",
    "    'model_m_epoch=65_val_loss=0.38_val_auc=0.93_val_m=0.92.ckpt',\n",
    "    'model_m_epoch=43_val_loss=0.25_val_auc=0.97_val_m=0.92.ckpt',\n",
    "]\n",
    "cnn_auc_models = [\n",
    "    'model_epoch=50_val_loss=0.84_val_auc=0.98_val_m=0.93.ckpt',\n",
    "    'model_epoch=21_val_loss=0.76_val_auc=0.98_val_m=0.93.ckpt',\n",
    "    'model_epoch=50_val_loss=0.56_val_auc=0.98_val_m=0.95.ckpt',\n",
    "    'model_epoch=80_val_loss=0.91_val_auc=0.96_val_m=0.91.ckpt',\n",
    "    'model_epoch=24_val_loss=0.77_val_auc=0.98_val_m=0.94.ckpt',\n",
    "]\n",
    "cnn_loss_models = [\n",
    "    'model_loss_epoch=15_val_loss=0.43_val_auc=0.97_val_m=0.90.ckpt',\n",
    "    'model_loss_epoch=00_val_loss=0.30_val_auc=0.95_val_m=0.87.ckpt',\n",
    "    'model_loss_epoch=09_val_loss=0.39_val_auc=0.95_val_m=0.89.ckpt',\n",
    "    'model_loss_epoch=00_val_loss=0.41_val_auc=0.90_val_m=0.85.ckpt',\n",
    "    'model_loss_epoch=00_val_loss=0.38_val_auc=0.93_val_m=0.85.ckpt',\n",
    "]\n",
    "cnn_m_models = [\n",
    "    'model_m_epoch=77_val_loss=1.05_val_auc=0.97_val_m=0.94.ckpt',\n",
    "    'model_m_epoch=59_val_loss=1.00_val_auc=0.96_val_m=0.93.ckpt',\n",
    "    'model_m_epoch=50_val_loss=0.56_val_auc=0.98_val_m=0.95.ckpt',\n",
    "    'model_m_epoch=97_val_loss=1.14_val_auc=0.95_val_m=0.93.ckpt',\n",
    "    'model_m_epoch=27_val_loss=0.52_val_auc=0.98_val_m=0.94.ckpt',\n",
    "]"
   ]
  },
  {
   "cell_type": "code",
   "execution_count": null,
   "id": "425e2d8e-e9ba-4c02-8eeb-d7b667afe4af",
   "metadata": {},
   "outputs": [],
   "source": [
    "gnn_config = yaml.safe_load(open(gnn_config_file, 'r'))\n",
    "cnn_config = yaml.safe_load(open(cnn_config_file, 'r'))"
   ]
  },
  {
   "cell_type": "code",
   "execution_count": null,
   "id": "f4829d83-a635-489e-9235-60429daeff2b",
   "metadata": {},
   "outputs": [],
   "source": [
    "gnn_model = RunMalignancyModel(config=gnn_config['config'])\n",
    "gnn_model.config['true_balance_classes'] = False\n",
    "gnn_model.set_model()\n",
    "gnn_model.set_data()\n",
    "gnn_model.set_train_test_split()\n",
    "gnn_model.set_data_module()\n",
    "gnn_model.prepare_trainers()\n",
    "\n",
    "for idx in [0,1,2,3,4]:\n",
    "    gnn_model.trainers[idx].validate(gnn_model.model,\n",
    "                           datamodule=gnn_model.data_module_cross_val[idx], \n",
    "                           ckpt_path=os.path.join(graph_log_dir, f\"top_models_fold_{idx}\", graph_auc_models[idx])\n",
    "                          )\n",
    "    gnn_model.trainers[idx].test(gnn_model.model,\n",
    "                           datamodule=gnn_model.data_module_cross_val[idx], \n",
    "                           ckpt_path=os.path.join(graph_log_dir, f\"top_models_fold_{idx}\", graph_auc_models[idx])\n",
    "                          )"
   ]
  },
  {
   "cell_type": "code",
   "execution_count": null,
   "id": "1264aac1-81ac-411a-a5e4-9172dd382f97",
   "metadata": {},
   "outputs": [],
   "source": [
    "cnn_model = RunMalignancyModel(config=cnn_config['config'])\n",
    "cnn_model.config['true_balance_classes'] = False\n",
    "cnn_model.config['include_primary'] = False\n",
    "cnn_model.set_model\n",
    "cnn_model.set_data()\n",
    "cnn_model.set_train_test_split()\n",
    "cnn_model.set_data_module()\n",
    "cnn_model.prepare_trainers()\n",
    "for idx in [0,1,2,3,4]:\n",
    "\n",
    "    cnn_model.set_model()\n",
    "    cnn_model.set_callbacks(idx)\n",
    "    cnn_model.trainers[idx] = L.Trainer(\n",
    "                    max_epochs=cnn_model.config['n_epochs'],\n",
    "                    accelerator=\"auto\",\n",
    "                    devices=cnn_model.config['gpu_device'] if torch.cuda.is_available() else None,\n",
    "                    logger=[L.loggers.CSVLogger(save_dir=os.path.join(cnn_model.log_dir, f\"csvlog_fold_{idx}\")), L.loggers.TensorBoardLogger(save_dir=os.path.join(cnn_model.log_dir, f\"tb_fold_{idx}\"))],\n",
    "                    callbacks=cnn_model.callbacks,\n",
    "                    #check_val_every_n_epoch = 1,\n",
    "                    #auto_lr_find=True\n",
    "    )\n",
    "    cnn_model.trainers[idx].validate(cnn_model.model,\n",
    "                           datamodule=cnn_model.data_module_cross_val[idx], \n",
    "                           ckpt_path=os.path.join(cnn_log_dir, f\"top_models_fold_{idx}\", cnn_auc_models[idx])\n",
    "                          )\n",
    "    cnn_model.trainers[idx].test(cnn_model.model,\n",
    "                           datamodule=cnn_model.data_module_cross_val[idx], \n",
    "                           ckpt_path=os.path.join(cnn_log_dir, f\"top_models_fold_{idx}\", cnn_auc_models[idx])\n",
    "                          )\n",
    "    "
   ]
  },
  {
   "cell_type": "code",
   "execution_count": null,
   "id": "e19578a5-7f78-4687-9e8a-cbca816d0cbe",
   "metadata": {},
   "outputs": [],
   "source": [
    "for idx in [0,1,2,3,4]:\n",
    "    gnn_model.best_checkpoints[f\"fold_{idx}\"] = {callback.monitor: callback.best_model_path for callback in gnn_model.trainers[idx].callbacks if 'ModelCheckpoint' in callback.__class__.__name__}\n",
    "    gnn_model.best_checkpoints[f\"fold_{idx}\"]['val_auc'] = os.path.join(graph_log_dir, f\"top_models_fold_{idx}\", graph_auc_models[idx])\n",
    "    gnn_model.best_checkpoints[f\"fold_{idx}\"]['val_loss'] = os.path.join(graph_log_dir, f\"top_models_fold_{idx}\", graph_loss_models[idx])\n",
    "    gnn_model.best_checkpoints[f\"fold_{idx}\"]['val_m'] = os.path.join(graph_log_dir, f\"top_models_fold_{idx}\", graph_m_models[idx])\n",
    "    \n",
    "    cnn_model.best_checkpoints[f\"fold_{idx}\"] = {callback.monitor: callback.best_model_path for callback in cnn_model.trainers[idx].callbacks if 'ModelCheckpoint' in callback.__class__.__name__}\n",
    "    cnn_model.best_checkpoints[f\"fold_{idx}\"]['val_auc'] = os.path.join(cnn_log_dir, f\"top_models_fold_{idx}\", cnn_auc_models[idx])\n",
    "    cnn_model.best_checkpoints[f\"fold_{idx}\"]['val_loss'] = os.path.join(cnn_log_dir, f\"top_models_fold_{idx}\", cnn_loss_models[idx])\n",
    "    cnn_model.best_checkpoints[f\"fold_{idx}\"]['val_m'] = os.path.join(cnn_log_dir, f\"top_models_fold_{idx}\", cnn_m_models[idx])"
   ]
  },
  {
   "cell_type": "code",
   "execution_count": null,
   "id": "b311a977-0f75-4f0b-a7f8-fbc2e0cf0e38",
   "metadata": {},
   "outputs": [],
   "source": [
    "#gnn_model.get_metrics_dataframe()\n",
    "#gnn_model.get_predictions()\n",
    "#cnn_model.get_metrics_dataframe()\n",
    "cnn_model.get_predictions()"
   ]
  },
  {
   "cell_type": "code",
   "execution_count": null,
   "id": "d8b57bb6-f0e5-4f6d-8f2b-b80ffe6eb249",
   "metadata": {},
   "outputs": [],
   "source": [
    "liyuan_patient_order = []\n",
    "for idx in range(5):\n",
    "    tmp_fold_list = sorted(list(folds_path.glob(f\"./F{idx+1}/label/*\")))\n",
    "    liyuan_patient_order.append([pat.as_posix().split('/')[-1].split('.')[0] for pat in tmp_fold_list])"
   ]
  },
  {
   "cell_type": "code",
   "execution_count": null,
   "id": "caca1f3e-a800-4b15-95a5-053139f9e7d4",
   "metadata": {},
   "outputs": [],
   "source": [
    "graph_patient_order = []\n",
    "patients = pd.read_pickle('../../data/ln_malignancy/features_and_labels_110424.pkl')"
   ]
  },
  {
   "cell_type": "code",
   "execution_count": null,
   "id": "160c3c51-6d56-4201-ac4e-1e0b0f18317d",
   "metadata": {},
   "outputs": [],
   "source": [
    "patients"
   ]
  },
  {
   "cell_type": "code",
   "execution_count": null,
   "id": "8b6a3c2a-e182-4cd1-9ce0-6e5c585c7189",
   "metadata": {},
   "outputs": [],
   "source": [
    "liyuan_cnn_preds = []\n",
    "liyuan_svm_preds = []\n",
    "liyuan_svm_targets = []\n",
    "for idx in range(5):\n",
    "    print(len(np.load(os.path.join(liyuan_cnn, f\"F{idx+1}_pred.npy\"))))\n",
    "    liyuan_cnn_preds.extend(np.load(os.path.join(liyuan_cnn, f\"F{idx+1}_pred.npy\")))\n",
    "    liyuan_svm_preds.extend(scipy.io.loadmat(os.path.join(liyuan_svm, f\"F{idx+1}_ct_prediction.mat\"))['test_pro'])\n",
    "    liyuan_svm_targets.extend(scipy.io.loadmat(os.path.join(liyuan_svm, f\"F{idx+1}_ct_prediction.mat\"))['TestLabel'])\n",
    "liyuan_svm_preds    "
   ]
  },
  {
   "cell_type": "code",
   "execution_count": null,
   "id": "9add38e6-56b4-46ba-98bc-4e5cf2a2e956",
   "metadata": {},
   "outputs": [],
   "source": [
    "os.execute('ls ../../data/ln_malignancy/liyuan_folds')"
   ]
  },
  {
   "cell_type": "code",
   "execution_count": null,
   "id": "9500abb4-7fb9-4fa1-b807-34841788402d",
   "metadata": {},
   "outputs": [],
   "source": [
    "for idx, (val1, val2) in enumerate(zip(test_graph_pred['targets'][0], liyuan_svm_targets[0])):\n",
    "    print(idx, val1, val2)"
   ]
  },
  {
   "cell_type": "code",
   "execution_count": null,
   "id": "61903736-830d-4c97-b016-4e1606e65c72",
   "metadata": {},
   "outputs": [],
   "source": [
    "check_labels = []\n",
    "for idx in range(len(targets_svm)):\n",
    "    if targets_svm[idx][0] != svm_targets_remake[idx][0]:\n",
    "        print(f\"{idx+1} is problematic\")\n",
    "        check_labels.append((idx, targets_svm[idx], svm_targets_remake[idx]))\n",
    "    print(idx+1, targets_svm[idx], svm_targets_remake[idx])"
   ]
  },
  {
   "cell_type": "code",
   "execution_count": null,
   "id": "9d25b5f2-2024-4ca1-b80d-6d061341c459",
   "metadata": {},
   "outputs": [],
   "source": [
    "cnn_auc = auc_fn(torch.tensor(np.array(liyuan_cnn_preds)), torch.tensor(targets))\n",
    "svm_auc = auc_fn(torch.tensor(np.array(liyuan_svm_preds)[:,0]), torch.tensor(np.array(liyuan_svm_targets)))\n",
    "cnn_ap = ap_fn(torch.tensor(liyuan_cnn_preds), torch.tensor(targets))\n",
    "#svm_ap = ap_fn(torch.tensor(np.array(liyuan_svm_preds)[:,1]), torch.tensor(liyuan_svm_targets))\n",
    "cnn_sen = sen_fn(torch.tensor(liyuan_cnn_preds), torch.tensor(targets))\n",
    "#svm_sen = sen_fn(torch.tensor(np.array(liyuan_svm_preds)[:,1]), torch.tensor(liyuan_svm_targets))\n",
    "cnn_spe = spe_fn(torch.tensor(liyuan_cnn_preds), torch.tensor(targets))\n",
    "#svm_spe = spe_fn(torch.tensor(np.array(liyuan_svm_preds)[:,1]), torch.tensor(liyuan_svm_targets))\n",
    "print('auc:', cnn_auc, svm_auc)\n",
    "print('ap:', cnn_ap)\n",
    "print('sen:', cnn_sen)\n",
    "print('spe:', cnn_spe)"
   ]
  },
  {
   "cell_type": "markdown",
   "id": "c0da764f-0a12-43e4-a23a-1dac941f2482",
   "metadata": {},
   "source": [
    "### R testing"
   ]
  },
  {
   "cell_type": "code",
   "execution_count": null,
   "id": "880c526a-e7dd-4422-9d18-96d248d6776f",
   "metadata": {},
   "outputs": [],
   "source": [
    "from rpy2.robjects.packages import importr\n",
    "import rpy2.robjects.lib.ggplot2 as gp\n",
    "from rpy2.robjects import numpy2ri, default_converter, pandas2ri, r\n",
    "\n",
    "utils = importr('utils')\n",
    "base = importr('base')\n",
    "\n",
    "np_cv_rules = default_converter + numpy2ri.converter\n",
    "numpy2ri.activate()\n",
    "pandas2ri.activate()\n",
    "utils.chooseCRANmirror(ind=1)\n",
    "\n",
    "utils.install_packages('pROC')\n",
    "\n",
    "proc = importr('pROC')"
   ]
  },
  {
   "cell_type": "code",
   "execution_count": null,
   "id": "5de43f43-5186-4980-9e8c-3ff8139372cf",
   "metadata": {},
   "outputs": [],
   "source": [
    "'gnn_cnn_noedge': test_gnn_cnn_noedge_avg,\n",
    "    'gnn_cnn_3edge': test_gnn_cnn_3edge_avg,\n",
    "    'gnn_cnn_primary': test_gnn_cnn_primary_avg,\n",
    "    'no_graph': test_no_graph_avg,"
   ]
  },
  {
   "cell_type": "code",
   "execution_count": null,
   "id": "94400493-0268-4a36-81b7-6ce6627e7d7f",
   "metadata": {},
   "outputs": [],
   "source": [
    "roc1 = proc.roc(targets,pred_avg_dict['gnn_cnn_3edge'])\n",
    "roc2 = proc.roc(targets, pred_avg_dict['no_graph'])"
   ]
  },
  {
   "cell_type": "code",
   "execution_count": null,
   "id": "8eb3027c-ceea-41f7-90ae-08fd72d69d15",
   "metadata": {},
   "outputs": [],
   "source": [
    "roc1 = proc.roc(targets_small,small_avg_dict['gnn_cnn_3edge'])\n",
    "roc2 = proc.roc(targets_small, small_avg_dict['no_graph'])"
   ]
  },
  {
   "cell_type": "code",
   "execution_count": null,
   "id": "3f3db669-351e-45ff-a09a-cb0a6f1d402e",
   "metadata": {},
   "outputs": [],
   "source": [
    "roc1 = proc.roc(targets_large,large_avg_dict['gnn_cnn_3edge'])\n",
    "roc2 = proc.roc(targets_large, large_avg_dict['no_graph'])"
   ]
  },
  {
   "cell_type": "code",
   "execution_count": null,
   "id": "2c5e5519-7439-4809-b984-3b260e543a2b",
   "metadata": {},
   "outputs": [],
   "source": [
    "print(proc.ci(roc1))\n",
    "print(proc.ci(roc2))"
   ]
  },
  {
   "cell_type": "code",
   "execution_count": null,
   "id": "471b03d2-d41d-4b7f-9a5a-5e18bf3e5f01",
   "metadata": {},
   "outputs": [],
   "source": [
    "proc.roc_test(roc1, roc2, method='delong', alternative='greater')"
   ]
  },
  {
   "cell_type": "code",
   "execution_count": null,
   "id": "34cc7fa6-2d4f-4477-89f9-3088c40fe8e3",
   "metadata": {},
   "outputs": [],
   "source": []
  }
 ],
 "metadata": {
  "kernelspec": {
   "display_name": "pytorch_gpu_v2",
   "language": "python",
   "name": "pytorch_gpu_v2"
  },
  "language_info": {
   "codemirror_mode": {
    "name": "ipython",
    "version": 3
   },
   "file_extension": ".py",
   "mimetype": "text/x-python",
   "name": "python",
   "nbconvert_exporter": "python",
   "pygments_lexer": "ipython3",
   "version": "3.9.19"
  }
 },
 "nbformat": 4,
 "nbformat_minor": 5
}
